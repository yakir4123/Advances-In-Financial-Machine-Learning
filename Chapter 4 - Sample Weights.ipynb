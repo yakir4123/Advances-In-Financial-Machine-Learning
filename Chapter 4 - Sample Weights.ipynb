{
 "cells": [
  {
   "cell_type": "markdown",
   "source": [
    "# Part 1 - Data Analysing\n",
    "## Chapter 4 - Sample Weights"
   ],
   "metadata": {
    "collapsed": false
   },
   "id": "4dfc170631d4988"
  },
  {
   "cell_type": "code",
   "execution_count": 8,
   "id": "initial_id",
   "metadata": {
    "collapsed": true,
    "ExecuteTime": {
     "end_time": "2024-07-20T19:49:04.743636Z",
     "start_time": "2024-07-20T19:49:04.740588Z"
    }
   },
   "outputs": [],
   "source": [
    "import gc\n",
    "\n",
    "import numpy as np\n",
    "import pandas as pd\n",
    "from matplotlib import pyplot as plt\n",
    "from utils.plotting import plot\n",
    "\n",
    "from utils import general\n",
    "from utils.bars_generator import create_dollar_bars\n",
    "\n"
   ]
  },
  {
   "cell_type": "markdown",
   "source": [
    "### 4.1\n",
    "In Chapter 3, we denoted as t1 a pandas series of timestamps where the first\n",
    "barrier was touched, and the index was the timestamp of the observation. This\n",
    "was the output of the getEvents function."
   ],
   "metadata": {
    "collapsed": false
   },
   "id": "1dda9303bbf4122f"
  },
  {
   "cell_type": "markdown",
   "source": [
    "#### 4.1 (a) Compute a t1 series on dollar bars derived from E-mini S&P 500 futures tick data."
   ],
   "metadata": {
    "collapsed": false
   },
   "id": "4987bb245fc5434"
  },
  {
   "cell_type": "code",
   "outputs": [
    {
     "name": "stdout",
     "output_type": "stream",
     "text": [
      "Memory usage of dataframe is 2714.63 MB\n",
      "Memory usage after optimization is: 2714.63 MB\n",
      "Decreased by 0.0%\n",
      "Memory usage of dataframe is 0.19 MB\n",
      "Memory usage after optimization is: 0.19 MB\n",
      "Decreased by 0.0%\n",
      "\n",
      "Number of events 72.\n"
     ]
    }
   ],
   "source": [
    "btc_transactions = general.load_df(f\"data/BTCUSDT-trades-*.parquet\")\n",
    "btc_dollar = create_dollar_bars(btc_transactions, 1e8)\n",
    "daily_vol = general.get_daily_vol(btc_dollar)\n",
    "\n",
    "btc_dollar_bar_returns = general.returns(btc_dollar['close'])\n",
    "t0 = general.get_t_events_dynamic_h(\n",
    "    btc_dollar.index[1:].values,\n",
    "    btc_dollar_bar_returns.values,\n",
    "    daily_vol.index.values,\n",
    "    daily_vol.values,\n",
    "    0.1\n",
    ")\n",
    "\n",
    "del btc_transactions\n",
    "gc.collect()\n",
    "print()\n",
    "print(f'Number of events {len(t0)}.')"
   ],
   "metadata": {
    "collapsed": false,
    "ExecuteTime": {
     "end_time": "2024-07-20T19:49:23.384285Z",
     "start_time": "2024-07-20T19:49:08.807063Z"
    }
   },
   "id": "e27b0bd06714ab09",
   "execution_count": 9
  },
  {
   "cell_type": "markdown",
   "source": [
    "#### 4.1 (b) Apply the function mpNumCoEvents to compute the number of overlapping outcomes at each point in time."
   ],
   "metadata": {
    "collapsed": false
   },
   "id": "e544193c484ab43"
  },
  {
   "cell_type": "code",
   "outputs": [
    {
     "ename": "IndexError",
     "evalue": "only integers, slices (`:`), ellipsis (`...`), numpy.newaxis (`None`) and integer or boolean arrays are valid indices",
     "output_type": "error",
     "traceback": [
      "\u001B[0;31m---------------------------------------------------------------------------\u001B[0m",
      "\u001B[0;31mIndexError\u001B[0m                                Traceback (most recent call last)",
      "Cell \u001B[0;32mIn[10], line 19\u001B[0m\n\u001B[1;32m     16\u001B[0m         count\u001B[38;5;241m.\u001B[39mloc[tIn:tOut] \u001B[38;5;241m+\u001B[39m\u001B[38;5;241m=\u001B[39m \u001B[38;5;241m1\u001B[39m\n\u001B[1;32m     17\u001B[0m     \u001B[38;5;28;01mreturn\u001B[39;00m count\u001B[38;5;241m.\u001B[39mloc[molecule[\u001B[38;5;241m0\u001B[39m]:t1[molecule]\u001B[38;5;241m.\u001B[39mmax()]\n\u001B[0;32m---> 19\u001B[0m mp_num_co_events(closeIdx\u001B[38;5;241m=\u001B[39mbtc_dollar\u001B[38;5;241m.\u001B[39mindex, t1\u001B[38;5;241m=\u001B[39m\u001B[43mt1\u001B[49m\u001B[43m[\u001B[49m\u001B[38;5;124;43m'\u001B[39;49m\u001B[38;5;124;43mt1\u001B[39;49m\u001B[38;5;124;43m'\u001B[39;49m\u001B[43m]\u001B[49m, molecule\u001B[38;5;241m=\u001B[39mt1\u001B[38;5;241m.\u001B[39mindex)\n",
      "\u001B[0;31mIndexError\u001B[0m: only integers, slices (`:`), ellipsis (`...`), numpy.newaxis (`None`) and integer or boolean arrays are valid indices"
     ]
    }
   ],
   "source": [
    "def mp_num_co_events(closeIdx, t1, molecule):\n",
    "    \"\"\"\n",
    "    Compute the number of concurrent events per bar.\n",
    "    +molecule[0] is the date of the first event on which the weight will be computed\n",
    "    +molecule[-1] is the date of the last event on which the weight will be computed\n",
    "    Any event that starts before t1[molecule].max() impacts the count.\n",
    "    \"\"\"\n",
    "    #1) find events that span the period [molecule[0],molecule[-1]]\n",
    "    t1 = t1.fillna(closeIdx[-1])  # unclosed events still must impact other weights\n",
    "    t1 = t1[t1 >= molecule[0]]  # events that end at or after molecule[0]\n",
    "    t1 = t1.loc[:t1[molecule].max()]  # events that start at or before t1[molecule].max()\n",
    "    #2) count events spanning a bar\n",
    "    iloc = closeIdx.searchsorted(np.array([t1.index[0], t1.max()]))\n",
    "    count = pd.Series(0, index=closeIdx[iloc[0]:iloc[1] + 1])\n",
    "    for tIn, tOut in t1.iteritems():\n",
    "        count.loc[tIn:tOut] += 1\n",
    "    return count.loc[molecule[0]:t1[molecule].max()]\n",
    "\n",
    "mp_num_co_events(closeIdx=btc_dollar.index, t1=t1['t1'], molecule=t1.index)"
   ],
   "metadata": {
    "collapsed": false,
    "ExecuteTime": {
     "end_time": "2024-07-20T20:08:06.406721Z",
     "start_time": "2024-07-20T20:08:06.373450Z"
    }
   },
   "id": "4c820fcf74d6da20",
   "execution_count": 10
  },
  {
   "cell_type": "code",
   "outputs": [
    {
     "data": {
      "text/plain": "array([1714609990028, 1714610710719, 1714612143147, 1714612966069,\n       1714613687032, 1714614430768, 1714625439626, 1714629471160,\n       1714802822477, 1715052713653, 1715076854630, 1715092893200,\n       1715128310280, 1715128545243, 1715149236129, 1715158139905,\n       1715158861511, 1715196264472, 1715199584480, 1715199727605,\n       1715201145145, 1715234998906, 1715237708834, 1715241732693,\n       1715242387905, 1715243293674, 1715246364098, 1715248083059,\n       1715250026093, 1715252255238, 1715252440972, 1715257885679,\n       1715258204803, 1715262543840, 1715264185112, 1715268393405,\n       1715646711497, 1715647622497, 1715649470842, 1715657628292,\n       1715666993371, 1715668657025, 1715862641200, 1716017000686,\n       1716135815797, 1716145453102, 1716146139029, 1716188234362,\n       1716199850662, 1716200910419, 1716212356559, 1716213179574,\n       1716296621352, 1716468977815, 1716468992733, 1716500134624,\n       1716532002216, 1716534875411, 1716560664029, 1716821622990,\n       1716903327980, 1716907804650, 1717030411399, 1717043339026,\n       1717055565272, 1717057625813, 1717069573928, 1717072233002,\n       1717072392004, 1717073115525, 1717158615311, 1717162371702],\n      dtype=uint64)"
     },
     "execution_count": 11,
     "metadata": {},
     "output_type": "execute_result"
    }
   ],
   "source": [
    "t1"
   ],
   "metadata": {
    "collapsed": false,
    "ExecuteTime": {
     "end_time": "2024-07-20T20:08:13.037343Z",
     "start_time": "2024-07-20T20:08:13.033255Z"
    }
   },
   "id": "bf232151277c526c",
   "execution_count": 11
  },
  {
   "cell_type": "code",
   "outputs": [],
   "source": [],
   "metadata": {
    "collapsed": false
   },
   "id": "bf271b20b4cab1bd"
  }
 ],
 "metadata": {
  "kernelspec": {
   "display_name": "Python 3",
   "language": "python",
   "name": "python3"
  },
  "language_info": {
   "codemirror_mode": {
    "name": "ipython",
    "version": 2
   },
   "file_extension": ".py",
   "mimetype": "text/x-python",
   "name": "python",
   "nbconvert_exporter": "python",
   "pygments_lexer": "ipython2",
   "version": "2.7.6"
  }
 },
 "nbformat": 4,
 "nbformat_minor": 5
}
