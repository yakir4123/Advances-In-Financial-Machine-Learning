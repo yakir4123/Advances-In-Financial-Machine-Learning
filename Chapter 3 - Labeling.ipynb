{
 "cells": [
  {
   "cell_type": "markdown",
   "source": [
    "# Part 1 - Data Analysing\n",
    "## Chapter 3 - Labeling"
   ],
   "metadata": {
    "collapsed": false
   },
   "id": "df8de05efb121fb9"
  },
  {
   "cell_type": "code",
   "outputs": [],
   "source": [
    "import gc\n",
    "import pandas as pd\n",
    "from matplotlib import pyplot as plt\n",
    "from utils.plotting import plot\n",
    "\n",
    "\n",
    "from utils.general import load_df, reduce_memory_usage, get_t_events, get_t_events_dynamic_h, returns\n",
    "from utils.bars_generator import create_dollar_bars\n"
   ],
   "metadata": {
    "collapsed": false,
    "ExecuteTime": {
     "end_time": "2024-07-16T19:55:04.430006400Z",
     "start_time": "2024-07-16T19:55:00.730137900Z"
    }
   },
   "id": "a6c9b530436bfd9f",
   "execution_count": 1
  },
  {
   "cell_type": "markdown",
   "source": [
    "### 3.1 Dollar bars"
   ],
   "metadata": {
    "collapsed": false
   },
   "id": "1a0cae2d7fa658c7"
  },
  {
   "cell_type": "code",
   "outputs": [
    {
     "name": "stdout",
     "output_type": "stream",
     "text": [
      "Memory usage of dataframe is 16812.27 MB\n",
      "Memory usage after optimization is: 16812.27 MB\n",
      "Decreased by 0.0%\n"
     ]
    }
   ],
   "source": [
    "# dates = ['2024-04', '2024-05']\n",
    "# load 1 csv regular: 45s\n",
    "btc_transactions = load_df(f\"data/BTCUSDT-trades-*.parquet\")\n",
    "btc_dollar = create_dollar_bars(btc_transactions, 1e8)"
   ],
   "metadata": {
    "collapsed": false,
    "is_executing": true,
    "ExecuteTime": {
     "start_time": "2024-07-16T19:55:04.431010400Z"
    }
   },
   "id": "331b9de54dbe47a9",
   "execution_count": null
  },
  {
   "cell_type": "code",
   "outputs": [],
   "source": [
    "def get_daily_vol(bars: pd.DataFrame, span0: int = 100):\n",
    "    # daily vol, reindexed to close\n",
    "    ms_a_day = 24 * 60 * 60 * 1000\n",
    "\n",
    "    df0 = bars.index.searchsorted(bars.index - ms_a_day)\n",
    "    df0 = df0[df0 > 0]\n",
    "    df0 = pd.Series(bars.index[df0 - 1], index=bars.index[bars.shape[0] - df0.shape[0]:])\n",
    "    df0 = bars.close.loc[df0.index] / bars.close.loc[df0.values].values - 1  # daily returns\n",
    "    df0 = df0.ewm(span=span0).std()\n",
    "    return df0.rename('daily_vol').dropna()\n"
   ],
   "metadata": {
    "collapsed": false,
    "is_executing": true
   },
   "id": "2f5dcd8356000af0",
   "execution_count": null
  },
  {
   "cell_type": "code",
   "outputs": [],
   "source": [
    "daily_vol = get_daily_vol(btc_dollar)\n",
    "f, ax = plt.subplots(figsize=(14, 3))\n",
    "ax.plot(pd.to_datetime(daily_vol.index, unit='ms'), daily_vol)\n",
    "ax.axhline(daily_vol.mean(), ls='--', color='r')"
   ],
   "metadata": {
    "collapsed": false,
    "is_executing": true
   },
   "id": "ece7a1d887065c70",
   "execution_count": null
  },
  {
   "cell_type": "code",
   "outputs": [],
   "source": [
    "btc_dollar_bar_returns = returns(btc_dollar['close'])\n",
    "t_events_static_h = get_t_events(\n",
    "    btc_dollar.index[1:].values,\n",
    "    btc_dollar_bar_returns.values,\n",
    "    0.015\n",
    ")\n",
    "\n",
    "t0 = get_t_events_dynamic_h(\n",
    "    btc_dollar.index[1:].values,\n",
    "    btc_dollar_bar_returns.values,\n",
    "    daily_vol.index.values,\n",
    "    daily_vol.values,\n",
    "    0.1\n",
    ")\n",
    "f, ax = plt.subplots(2, 1, figsize=(14, 5), sharex=True)\n",
    "ax[0].set_title('H set to be static as 0.015')\n",
    "ax[0].plot(pd.to_datetime(btc_dollar.index, unit='ms'), btc_dollar['close'])\n",
    "ax[0].scatter(pd.to_datetime(t_events_static_h, unit='ms'), btc_dollar[btc_dollar.index.isin(t_events_static_h)]['close'], c='r')\n",
    "\n",
    "ax[1].set_title('dynamic H as a function of volatility')\n",
    "ax[1].plot(pd.to_datetime(btc_dollar.index, unit='ms'), btc_dollar['close'])\n",
    "ax[1].scatter(pd.to_datetime(t0, unit='ms'), btc_dollar[btc_dollar.index.isin(t0)]['close'], c='r')\n",
    "\n",
    "plt.tight_layout()"
   ],
   "metadata": {
    "collapsed": false,
    "is_executing": true
   },
   "id": "46f3ac43072c2653",
   "execution_count": null
  },
  {
   "cell_type": "markdown",
   "source": [
    "#### 3.1 (b) Use Snippet 3.4 on a pandas series t1, where numDays=1."
   ],
   "metadata": {
    "collapsed": false
   },
   "id": "2b876c7648381edf"
  },
  {
   "cell_type": "code",
   "outputs": [],
   "source": [
    "def get_vertical_next_day(bars: pd.DataFrame, t0: pd.Series, ms: int):\n",
    "    t1 = btc_dollar.index.searchsorted(t0 + ms)\n",
    "    t1 = t1[t1 < len(bars)]\n",
    "    # timestamp of event -> timestamp of closed bar that as a vertical barrier\n",
    "    return pd.Series(bars.index[t1].values, index=t0[:t1.shape[0]])\n",
    "\n",
    "ms_a_day = 24 * 60 * 60 * 1000\n",
    "num_days = 1\n",
    "t1 = get_vertical_next_day(btc_dollar, t0, num_days * ms_a_day)\n"
   ],
   "metadata": {
    "collapsed": false,
    "is_executing": true
   },
   "id": "49b975eb670e899d",
   "execution_count": null
  },
  {
   "cell_type": "code",
   "outputs": [],
   "source": [
    "fig, ax = plt.subplots(1, 1, figsize=(14, 3))\n",
    "ax.set_title('Events and its correspong vertical barrier')\n",
    "ax.plot(pd.to_datetime(btc_dollar.index, unit='ms'), btc_dollar['close'])\n",
    "ax.scatter(pd.to_datetime(t0, unit='ms'), btc_dollar.loc[t0, 'close'], c='r', label='t0 - events')\n",
    "ax.scatter(pd.to_datetime(t1, unit='ms'), btc_dollar.loc[t1, 'close'], c='g', label='t1 - vertical barriers')\n",
    "\n",
    "ax.legend()\n",
    "plt.tight_layout()"
   ],
   "metadata": {
    "collapsed": false,
    "is_executing": true
   },
   "id": "ee9aa3ce6699c133",
   "execution_count": null
  },
  {
   "cell_type": "markdown",
   "source": [
    "### 3.1 (c) Apply the triple-barrier method"
   ],
   "metadata": {
    "collapsed": false
   },
   "id": "46175151dd7b98b5"
  },
  {
   "cell_type": "code",
   "outputs": [],
   "source": [
    "import numpy as np\n",
    "\n",
    "\n",
    "def apply_tp_sl(close: pd.Series, events, target, tp_scale, sl_scale, molecule):\n",
    "    \"\"\"\n",
    "    Snippet 3.2\n",
    "    \"\"\"\n",
    "    events_ = events.loc[molecule]\n",
    "    out = events_[['t1']].copy(deep=True)\n",
    "    if tp_scale > 0:\n",
    "        tp = tp_scale * target\n",
    "    else:\n",
    "        tp = pd.Series(index=events.index)  # NaNs\n",
    "    if sl_scale > 0:\n",
    "        sl = -sl_scale * target\n",
    "    else:\n",
    "        sl = pd.Series(index=events.index)  # NaNs\n",
    "    for loc, t1 in events_['t1'].fillna(close.index[-1]).items():\n",
    "        df0 = close.loc[loc:t1]  # path prices\n",
    "        df0 = (df0 / close[loc] - 1) * events_.at[loc, 'side']  # path returns\n",
    "        out.loc[loc, 'sl'] = df0[df0 < sl[loc]].index.min()  # earliest stop loss.\n",
    "        out.loc[loc, 'tp'] = df0[df0 > tp[loc]].index.min()  # earliest profit taking.\n",
    "    return out\n",
    "\n",
    "\n",
    "# including metalabeleing possibility\n",
    "def get_events_tripple_barrier(\n",
    "        close: pd.Series,\n",
    "        t0: np.ndarray,\n",
    "        tp_scale: float,\n",
    "        sl_scale: float,\n",
    "        target: pd.Series,\n",
    "        min_return: float,\n",
    "        t1: pd.Series | bool = False,\n",
    "        side: pd.Series = None,\n",
    ") -> pd.DataFrame:\n",
    "    '''\n",
    "    Snippet 3.3\n",
    "    Getting times of the first barrier touch\n",
    "    \n",
    "        Parameters:\n",
    "            close (pd.Series): close prices of bars\n",
    "            t0 (np.ndarray): np.ndarray of timestamps that seed every barrier (they can be generated\n",
    "                                  by CUSUM filter for example)\n",
    "            tp_scale (float): non-negative float that sets the width of the two barriers (if 0 then no barrier)\n",
    "            sl_scale (float): non-negative float that sets the width of the two barriers (if 0 then no barrier)\n",
    "            target (pd.Series): s series of targets expressed in terms of absolute returns\n",
    "            min_return (float): minimum target return required for running a triple barrier search\n",
    "            numThreads (int): number of threads to use concurrently\n",
    "            t1 (pd.Series): series with the timestamps of the vertical barriers (pass False\n",
    "                            to disable vertical barriers)\n",
    "            side (pd.Series) (optional): metalabels containing sides of bets\n",
    "        \n",
    "        Returns:\n",
    "            events (pd.DataFrame): dataframe with columns:\n",
    "                - t1: timestamp of the first barrier touch\n",
    "                - target: target that was used to generate the horizontal barriers\n",
    "                - side (optional): side of bets\n",
    "    '''\n",
    "    target = target.reindex(t0, method='ffill')\n",
    "    if min_return > 0:\n",
    "        target = target[target > min_return]\n",
    "    if t1 is False:\n",
    "        t1 = pd.Series(pd.NaT, index=t0)\n",
    "    if side is None:\n",
    "        side_ = pd.Series(np.array([1.] * len(target.index)), index=target.index)\n",
    "    else:\n",
    "        side_ = side.loc[target.index.intersection(side.index)]\n",
    "    events = pd.concat({'t1': t1, 'side': side_}, axis=1).dropna()\n",
    "    df0 = apply_tp_sl(close, events, target, tp_scale, sl_scale, events.index)\n",
    "    events['t1'] = df0.dropna(how='all').min(axis=1)\n",
    "    events.rename(columns={'t1': 'touch'}, inplace=True)\n",
    "    if side is None:\n",
    "        events = events.drop('side', axis=1)\n",
    "    return events\n"
   ],
   "metadata": {
    "collapsed": false,
    "is_executing": true
   },
   "id": "8ddc98c88763c626",
   "execution_count": null
  },
  {
   "cell_type": "code",
   "outputs": [],
   "source": [
    "events = get_events_tripple_barrier(close=btc_dollar['close'], t0=t0, tp_scale=1, sl_scale=1,\n",
    "                                    target=daily_vol, min_return=0.0, t1=t1)\n",
    "events"
   ],
   "metadata": {
    "collapsed": false,
    "is_executing": true
   },
   "id": "e1903b4965a4ca",
   "execution_count": null
  },
  {
   "cell_type": "code",
   "outputs": [],
   "source": [
    "fig, ax = plt.subplots(1, 1, figsize=(14, 3))\n",
    "ax.set_title('Events and its correspong vertical barrier')\n",
    "ax.plot(pd.to_datetime(btc_dollar.index, unit='ms'), btc_dollar['close'])\n",
    "ax.scatter(pd.to_datetime(t0, unit='ms'), btc_dollar.loc[t0, 'close'], c='r', label='t0 - events')\n",
    "ax.scatter(pd.to_datetime(events['touch'], unit='ms'), btc_dollar.loc[events['touch'], 'close'], c='g', label='t1 - first barrier touch')\n",
    "\n",
    "ax.legend()\n",
    "plt.tight_layout()"
   ],
   "metadata": {
    "collapsed": false,
    "is_executing": true
   },
   "id": "259d00db10a268d5",
   "execution_count": null
  },
  {
   "cell_type": "markdown",
   "source": [
    "#### 3.1 (d) apply getBins"
   ],
   "metadata": {
    "collapsed": false
   },
   "id": "4ff6c8fe4fba5c5c"
  },
  {
   "cell_type": "code",
   "outputs": [],
   "source": [
    "def get_bins(events: pd.DataFrame, close: pd.Series, t1: pd.Series | None = None):\n",
    "    events_ = events.dropna(subset=['touch'])\n",
    "    px = events_.index.union(events_['touch'].values).drop_duplicates()\n",
    "    px = close.reindex(px, method='bfill')\n",
    "    out = pd.DataFrame(index=events_.index)\n",
    "    out['ret'] = px.loc[events_['touch'].values].values / px.loc[events_.index] - 1\n",
    "    if 'side' in events_:\n",
    "        out['ret'] *= events_['side']  # meta-labeling\n",
    "    if 'side' in events_:\n",
    "        out.loc[out['ret'] <= 0, 'bin'] = 0  # meta-labeling\n",
    "    out['bin'] = np.sign(out['ret'])\n",
    "    if t1 is not None:\n",
    "        out[events_['touch'].isin(t1)] = 0\n",
    "    return out"
   ],
   "metadata": {
    "collapsed": false,
    "is_executing": true
   },
   "id": "bd9c073cd26992b4",
   "execution_count": null
  },
  {
   "cell_type": "code",
   "outputs": [],
   "source": [
    "labeled_events = get_bins(events, btc_dollar.close)\n",
    "fig, ax = plt.subplots(1, 1, figsize=(14, 3))\n",
    "ax.set_title('Labeled Events')\n",
    "ax.plot(pd.to_datetime(btc_dollar.index, unit='ms'), btc_dollar['close'])\n",
    "label_tp = labeled_events[labeled_events['bin'] == 1]\n",
    "label_sl = labeled_events[labeled_events['bin'] == -1]\n",
    "ax.scatter(pd.to_datetime(label_tp.index, unit='ms'),\n",
    "           btc_dollar.loc[label_tp.index, 'close'], c='g', label='events labeled tp')\n",
    "ax.scatter(pd.to_datetime(label_sl.index, unit='ms'),\n",
    "           btc_dollar.loc[label_sl.index, 'close'], c='r', label='events labeled sl')\n",
    "\n",
    "ax.legend()\n",
    "plt.tight_layout()"
   ],
   "metadata": {
    "collapsed": false,
    "is_executing": true
   },
   "id": "7881fea203be26d9",
   "execution_count": null
  },
  {
   "cell_type": "markdown",
   "source": [
    "### 3.2 From exercise 1, use Snippet 3.8 to drop rare labels."
   ],
   "metadata": {
    "collapsed": false
   },
   "id": "b04bb9f73221d49b"
  },
  {
   "cell_type": "code",
   "outputs": [],
   "source": [
    "def drop_rare_labels(events, min_percentage=.05):\n",
    "    while True:\n",
    "        df0 = events['bin'].value_counts(normalize=True)\n",
    "        if df0.min() > min_percentage or df0.shape[0] < 3:\n",
    "            break\n",
    "        print('dropped label', df0.argmin(), df0.min())\n",
    "        events = events[events['bin'] != df0.argmin()]\n",
    "\n",
    "    return events"
   ],
   "metadata": {
    "collapsed": false,
    "is_executing": true
   },
   "id": "485f47478657d425",
   "execution_count": null
  },
  {
   "cell_type": "code",
   "outputs": [],
   "source": [
    "print(f'Total number of labels: {len(labeled_events)}')\n",
    "cleaned_labels = drop_rare_labels(labeled_events)\n",
    "print(f'Number of rare labels: {len(labeled_events) - len(cleaned_labels)}')"
   ],
   "metadata": {
    "collapsed": false,
    "is_executing": true
   },
   "id": "d3ba7f606b1e146c",
   "execution_count": null
  },
  {
   "cell_type": "markdown",
   "source": [
    "### 3.3 Adjust the getBins function to return a 0 whenever the vertical barrier is the one touched first."
   ],
   "metadata": {
    "collapsed": false
   },
   "id": "5e9418827332ec22"
  },
  {
   "cell_type": "code",
   "outputs": [],
   "source": [
    "# added t1 for get_bins to note that if it exists it should check if it touched that bar \n",
    "get_bins(events, btc_dollar.close, t1)"
   ],
   "metadata": {
    "collapsed": false,
    "is_executing": true
   },
   "id": "6e78af6d700b0440",
   "execution_count": null
  },
  {
   "cell_type": "markdown",
   "source": [
    "### 3.4 Develop a trend-following strategy based on a popular technical analysis statistic\n",
    "(e.g., crossing moving averages). For each observation, the model suggests a side,\n",
    "but not a size of the bet."
   ],
   "metadata": {
    "collapsed": false
   },
   "id": "cb42fe8b90aacd26"
  },
  {
   "cell_type": "code",
   "outputs": [],
   "source": [
    "# implement gold death cross strategy\n",
    "ma20 = btc_dollar.close.rolling(window=20).mean()\n",
    "ma50 = btc_dollar.close.rolling(window=50).mean()\n",
    "\n",
    "gold_cross = (ma20 > ma50) & (ma20.shift(1) <= ma50.shift(1))\n",
    "death_cross = (ma20 < ma50) & (ma20.shift(1) >= ma50.shift(1))\n",
    "\n",
    "side = pd.Series(0, index=btc_dollar.index)\n",
    "side[gold_cross] = 1\n",
    "side[death_cross] = -1\n",
    "side = side[gold_cross | death_cross]\n",
    "t0 = side.index\n"
   ],
   "metadata": {
    "collapsed": false,
    "is_executing": true
   },
   "id": "953d5800c475ee7f",
   "execution_count": null
  },
  {
   "cell_type": "markdown",
   "source": [
    "#### 3.4 (a) Derive meta-labels for ptSl=[1,2] and t1 where numDays=1. Use as trgt the daily standard deviation as computed by Snippet 3.1."
   ],
   "metadata": {
    "collapsed": false
   },
   "id": "5a9942abd6599316"
  },
  {
   "cell_type": "code",
   "outputs": [],
   "source": [
    "t1 = get_vertical_next_day(btc_dollar, t0, num_days * ms_a_day)\n",
    "\n",
    "events = get_events_tripple_barrier(close=btc_dollar['close'], t0=t0, tp_scale=1, sl_scale=2,\n",
    "                                    target=daily_vol, min_return=0.0, t1=t1, side=side)\n",
    "labeled_events = get_bins(events, btc_dollar.close)\n",
    "labeled_events"
   ],
   "metadata": {
    "collapsed": false,
    "is_executing": true
   },
   "id": "8b65f38b70e5d180",
   "execution_count": null
  },
  {
   "cell_type": "markdown",
   "source": [
    "#### 3.4 (b) Train a random forest to decide whether to trade or not. Note: The decision is whether to trade or not, {0,1}, since the underlying model (the crossing moving average) has decided the side, {−1,1}."
   ],
   "metadata": {
    "collapsed": false
   },
   "id": "9b97005e1b0c5431"
  },
  {
   "cell_type": "code",
   "outputs": [],
   "source": [
    "from sklearn.ensemble import RandomForestClassifier\n",
    "from sklearn.model_selection import train_test_split\n",
    "from sklearn.metrics import roc_curve, classification_report\n",
    "\n",
    "X = side[labeled_events.index].values.reshape(-1,1)\n",
    "y = labeled_events.bin.values\n",
    "X_train, X_test, y_train, y_test = train_test_split(X, y, test_size=0.5,\n",
    "                                                    shuffle=False)\n",
    "\n",
    "n_estimator = 10000\n",
    "rf = RandomForestClassifier(max_depth=2, n_estimators=n_estimator,\n",
    "                            criterion='entropy', random_state=42)\n",
    "rf.fit(X_train, y_train)\n",
    "\n",
    "# The random forest model by itself\n",
    "y_pred_rf = rf.predict_proba(X_test)[:, 1]\n",
    "y_pred = rf.predict(X_test)\n",
    "fpr_rf, tpr_rf, _ = roc_curve(y_test, y_pred_rf)\n",
    "print(classification_report(y_test, y_pred))\n",
    "\n",
    "plt.figure(1)\n",
    "plt.plot([0, 1], [0, 1], 'k--')\n",
    "plt.plot(fpr_rf, tpr_rf, label='RF')\n",
    "plt.xlabel('False positive rate')\n",
    "plt.ylabel('True positive rate')\n",
    "plt.title('ROC curve')\n",
    "plt.legend(loc='best')\n",
    "plt.show()"
   ],
   "metadata": {
    "collapsed": false,
    "is_executing": true
   },
   "id": "f33d11bcb9a605ae",
   "execution_count": null
  },
  {
   "cell_type": "markdown",
   "source": [
    "### 3.5 Develop a mean-reverting strategy based on Bollinger bands. For each observation, the model suggests a side, but not a size of the bet"
   ],
   "metadata": {
    "collapsed": false
   },
   "id": "a00e3bc679a92f5"
  },
  {
   "cell_type": "code",
   "outputs": [],
   "source": [
    "def get_bollinger_bands(\n",
    "        dollar_bars: pd.DataFrame,\n",
    "        window: int,\n",
    "        alpha: float,\n",
    ") -> tuple[pd.Series, pd.Series, pd.Series]:\n",
    "    ma = (dollar_bars.close.rolling(window, min_periods=1).mean())\n",
    "    sigma = dollar_bars.close.rolling(window, min_periods=1).std()[1:]\n",
    "    b_upper, b_lower = (ma + alpha * sigma), (ma - alpha * sigma)\n",
    "    return ma, b_upper, b_lower\n",
    "\n",
    "\n",
    "ma, upper_band, lower_band = get_bollinger_bands(btc_dollar, window=30, alpha=1)\n",
    "\n",
    "over_buy_indices = (btc_dollar['open'].values < upper_band) & (btc_dollar['close'].values > upper_band)\n",
    "over_sell_indices = (btc_dollar['open'].values > lower_band) & (btc_dollar['close'].values < lower_band)\n",
    "over_buy = btc_dollar[over_buy_indices]\n",
    "over_sell = btc_dollar[over_sell_indices]\n",
    "\n",
    "over_buy_markers = [\n",
    "    {\"time\": timestamp, \"position\": \"below\", \"shape\": \"circle\", \"color\": \"red\", \"text\": \"\"}\n",
    "    for timestamp in list(pd.to_datetime(over_buy.index, unit='ms'))\n",
    "]\n",
    "\n",
    "over_sell_markers = [\n",
    "    {\"time\": timestamp, \"position\": \"above\", \"shape\": \"circle\", \"color\": \"green\", \"text\": \"\"}\n",
    "    for timestamp in list(pd.to_datetime(over_sell.index, unit='ms'))\n",
    "]\n",
    "\n",
    "lines = pd.DataFrame()\n",
    "lines['Lower BB'] = lower_band \n",
    "lines['Upper BB'] = upper_band \n",
    "chart = plot(btc_dollar, lines, markers=over_buy_markers + over_sell_markers)\n",
    "chart.load()"
   ],
   "metadata": {
    "collapsed": false,
    "is_executing": true
   },
   "id": "6acbd9bdbfd33a2",
   "execution_count": null
  },
  {
   "cell_type": "markdown",
   "source": [
    "#### 3.5 (a) Derive meta-labels for ptSl=[0,2] and t1 where numDays=1. Use as trgt the daily standard deviation as computed by Snippet 3.1."
   ],
   "metadata": {
    "collapsed": false
   },
   "id": "643c94dbfda09f95"
  },
  {
   "cell_type": "code",
   "outputs": [],
   "source": [
    "t0 = btc_dollar[over_sell_indices | over_buy_indices].index\n",
    "t1 = get_vertical_next_day(btc_dollar, t0, num_days * ms_a_day)\n",
    "\n",
    "events = get_events_tripple_barrier(close=btc_dollar['close'], t0=t0, tp_scale=1, sl_scale=2,\n",
    "                                    target=daily_vol, min_return=0.0, t1=t1, side=side)\n",
    "labeled_events = get_bins(events, btc_dollar.close)\n",
    "labeled_events"
   ],
   "metadata": {
    "collapsed": false,
    "is_executing": true
   },
   "id": "958f44774d7b5d5d",
   "execution_count": null
  },
  {
   "cell_type": "markdown",
   "source": [
    "### 3.5 (b) Train a random forest to decide whether to trade or not. Use as features: volatility, serial correlation, and the crossing moving averages from exercise 3.4."
   ],
   "metadata": {
    "collapsed": false
   },
   "id": "c763bc181b5caa40"
  },
  {
   "cell_type": "code",
   "outputs": [],
   "source": [
    "X = pd.DataFrame(\n",
    "    {\n",
    "        'vol': get_daily_vol(btc_dollar),\n",
    "        'autocorr': btc_dollar_bar_returns\n",
    "            .rolling(20, min_periods=1)\n",
    "            .corr(btc_dollar_bar_returns.shift(1))\n",
    "            .dropna(),\n",
    "        'side': events['side']}\n",
    ").dropna()\n",
    "y = labeled_events['bin']\n",
    "\n",
    "X_train, X_test, y_train, y_test = train_test_split(X, y, test_size=0.3, shuffle=False)\n",
    "rf = RandomForestClassifier(n_estimators=100)\n",
    "rf.fit(X_train, y_train)\n",
    "y_pred = rf.predict(X_test)\n",
    "\n",
    "plt.figure(1)\n",
    "plt.plot([0, 1], [0, 1], 'k--')\n",
    "plt.plot(fpr_rf, tpr_rf, label='RF')\n",
    "plt.xlabel('False positive rate')\n",
    "plt.ylabel('True positive rate')\n",
    "plt.title('ROC curve')\n",
    "plt.legend(loc='best')\n",
    "plt.show()"
   ],
   "metadata": {
    "collapsed": false,
    "is_executing": true
   },
   "id": "94dba823a6da0bfa",
   "execution_count": null
  },
  {
   "cell_type": "markdown",
   "source": [
    "#### 3.5 (c) What is the accuracy of predictions from the primary model (i.e., if the secondary model does not filter the bets)? What are the precision, recall, and F1-scores?"
   ],
   "metadata": {
    "collapsed": false
   },
   "id": "caf0c08d148b081e"
  },
  {
   "cell_type": "code",
   "outputs": [],
   "source": [
    "from sklearn.metrics import accuracy_score, precision_score, recall_score, f1_score\n",
    "\n",
    "base_predictions = np.ones(len(labeled_events))\n",
    "true_labels = labeled_events['bin'].values\n",
    "true_labels[true_labels == -1] = 0\n",
    "\n",
    "accuracy = accuracy_score(true_labels, base_predictions)\n",
    "precision = precision_score(true_labels, base_predictions, pos_label=1)\n",
    "recall = recall_score(true_labels, base_predictions, pos_label=1)\n",
    "f1 = f1_score(true_labels, base_predictions, pos_label=1)\n",
    "\n",
    "print(f'accuracy: {accuracy}')\n",
    "print(f'precision: {precision}')\n",
    "print(f'recall: {recall}')\n",
    "print(f'f1: {f1}')"
   ],
   "metadata": {
    "collapsed": false,
    "is_executing": true
   },
   "id": "1004ca8f5ada6174",
   "execution_count": null
  },
  {
   "cell_type": "markdown",
   "source": [
    "#### 3.5 (d) What is the accuracy of predictions from the secondary model? What are the precision, recall, and F1-scores?"
   ],
   "metadata": {
    "collapsed": false
   },
   "id": "bd996d3bab3c8c4c"
  },
  {
   "cell_type": "code",
   "outputs": [],
   "source": [
    "accuracy = accuracy_score(y_test, y_pred)\n",
    "precision = precision_score(y_test, y_pred, pos_label=1)\n",
    "recall = recall_score(y_test, y_pred, pos_label=1)\n",
    "f1 = f1_score(y_test, y_pred, pos_label=1)\n",
    "\n",
    "print(f'accuracy: {accuracy}')\n",
    "print(f'precision: {precision}')\n",
    "print(f'recall: {recall}')\n",
    "print(f'f1: {f1}')"
   ],
   "metadata": {
    "collapsed": false,
    "is_executing": true
   },
   "id": "8c4f13504a08c53d",
   "execution_count": null
  },
  {
   "cell_type": "code",
   "outputs": [],
   "source": [],
   "metadata": {
    "collapsed": false,
    "is_executing": true
   },
   "id": "5cabec12fdfac229"
  }
 ],
 "metadata": {
  "kernelspec": {
   "display_name": "Python 3",
   "language": "python",
   "name": "python3"
  },
  "language_info": {
   "codemirror_mode": {
    "name": "ipython",
    "version": 2
   },
   "file_extension": ".py",
   "mimetype": "text/x-python",
   "name": "python",
   "nbconvert_exporter": "python",
   "pygments_lexer": "ipython2",
   "version": "2.7.6"
  }
 },
 "nbformat": 4,
 "nbformat_minor": 5
}
