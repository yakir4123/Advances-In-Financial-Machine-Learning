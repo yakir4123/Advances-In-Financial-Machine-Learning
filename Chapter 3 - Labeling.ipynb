{
 "cells": [
  {
   "cell_type": "markdown",
   "source": [
    "# Part 1 - Data Analysing\n",
    "## Chapter 3 - Labeling"
   ],
   "metadata": {
    "collapsed": false
   },
   "id": "df8de05efb121fb9"
  },
  {
   "cell_type": "code",
   "outputs": [],
   "source": [
    "import os"
   ],
   "metadata": {
    "collapsed": false,
    "ExecuteTime": {
     "end_time": "2024-07-05T14:16:23.474198800Z",
     "start_time": "2024-07-05T14:16:22.841163500Z"
    }
   },
   "id": "a6c9b530436bfd9f",
   "execution_count": 1
  },
  {
   "cell_type": "code",
   "outputs": [],
   "source": [],
   "metadata": {
    "collapsed": false
   },
   "id": "331b9de54dbe47a9"
  }
 ],
 "metadata": {
  "kernelspec": {
   "display_name": "Python 3",
   "language": "python",
   "name": "python3"
  },
  "language_info": {
   "codemirror_mode": {
    "name": "ipython",
    "version": 2
   },
   "file_extension": ".py",
   "mimetype": "text/x-python",
   "name": "python",
   "nbconvert_exporter": "python",
   "pygments_lexer": "ipython2",
   "version": "2.7.6"
  }
 },
 "nbformat": 4,
 "nbformat_minor": 5
}
