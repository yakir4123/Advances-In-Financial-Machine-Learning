{
 "cells": [
  {
   "cell_type": "markdown",
   "source": [
    "# Part 2 - Modelling\n",
    "## Chapter 6 - Cross Validation in Finance"
   ],
   "metadata": {
    "collapsed": false
   },
   "id": "5b02f1a1ccc57f7b"
  },
  {
   "cell_type": "markdown",
   "source": [
    "### 7.1 Why is shuffling a dataset before conducting k-fold CV generally a bad idea in finance? What is the purpose of shuffling? Why does shuffling defeat the purpose of k-fold CV in financial datasets?\n",
    "\n",
    "Shuffling is bad idea because of data leakage and non IID samples, if we shuffle the data we cant monitor if there is a leakage from our training to the testing model. makes the k fold irrelevant because each test set has similar samples in training set and it may lead to false features discoveries.  "
   ],
   "metadata": {
    "collapsed": false
   },
   "id": "4d3c16c5d95ffbe5"
  },
  {
   "cell_type": "markdown",
   "source": [],
   "metadata": {
    "collapsed": false
   },
   "id": "5732b9a12f79bb38"
  },
  {
   "cell_type": "markdown",
   "source": [
    "### 7.2 Take a pair of matrices (X, y), representing observed features and labels. These could be one of the datasets derived from the exercises in Chapter 3.\n",
    "#### 7.2 (a) Derive the performance from a 10-fold CV of an RF classifier on (X, y), without shuffling.\n",
    "#### 7.2 (b) Derive the performance from a 10-fold CV of an RF on (X, y), with shuffling.\n",
    "#### 7.2 (c) Why are both results so different?\n",
    "#### 7.2 (d) How does shuffling leak information?"
   ],
   "metadata": {
    "collapsed": false
   },
   "id": "68c09139ad259522"
  },
  {
   "cell_type": "code",
   "outputs": [],
   "source": [],
   "metadata": {
    "collapsed": false
   },
   "id": "f20b4a06be69bef"
  },
  {
   "cell_type": "code",
   "execution_count": null,
   "id": "initial_id",
   "metadata": {
    "collapsed": true
   },
   "outputs": [],
   "source": []
  }
 ],
 "metadata": {
  "kernelspec": {
   "display_name": "Python 3",
   "language": "python",
   "name": "python3"
  },
  "language_info": {
   "codemirror_mode": {
    "name": "ipython",
    "version": 2
   },
   "file_extension": ".py",
   "mimetype": "text/x-python",
   "name": "python",
   "nbconvert_exporter": "python",
   "pygments_lexer": "ipython2",
   "version": "2.7.6"
  }
 },
 "nbformat": 4,
 "nbformat_minor": 5
}
