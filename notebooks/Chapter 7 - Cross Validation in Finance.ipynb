{
 "cells": [
  {
   "cell_type": "markdown",
   "source": [
    "# Part 2 - Modelling\n",
    "## Chapter 6 - Cross Validation in Finance"
   ],
   "metadata": {
    "collapsed": false
   },
   "id": "5b02f1a1ccc57f7b"
  },
  {
   "metadata": {},
   "cell_type": "code",
   "outputs": [],
   "execution_count": null,
   "source": "",
   "id": "af04bd57adf1d1d8"
  },
  {
   "cell_type": "markdown",
   "source": [
    "### 7.1 Why is shuffling a dataset before conducting k-fold CV generally a bad idea in finance? What is the purpose of shuffling? Why does shuffling defeat the purpose of k-fold CV in financial datasets?\n",
    "\n",
    "Shuffling is bad idea because of data leakage and non IID samples, if we shuffle the data we cant monitor if there is a leakage from our training to the testing model. makes the k fold irrelevant because each test set has similar samples in training set and it may lead to false features discoveries.  "
   ],
   "metadata": {
    "collapsed": false
   },
   "id": "4d3c16c5d95ffbe5"
  },
  {
   "cell_type": "markdown",
   "source": "### 7.2 Take a pair of matrices (X, y), representing observed features and labels. These could be one of the datasets derived from the exercises in Chapter 3.",
   "metadata": {
    "collapsed": false
   },
   "id": "68c09139ad259522"
  },
  {
   "cell_type": "code",
   "outputs": [],
   "source": [
    "from sklearn.ensemble import RandomForestClassifier\n",
    "from sklearn.model_selection import train_test_split\n",
    "from afml.data_analyst.financial_data_structures import get_t_events\n",
    "from afml.data_analyst.labels import get_vertical_next_day, get_events_triple_barrier, get_bins, get_daily_vol\n",
    "import numpy as np\n",
    "import pandas as pd\n",
    "from afml.data_analyst.sample_weights import sample_w_by_return, num_co_events\n",
    "from afml.data_analyst.fractionally_differentiated_features import frac_diff_ffd\n",
    "\n",
    "btc_dollar = pd.read_parquet('../data/dollar-bars-100000000-True.parquet')\n",
    "btc_dollar = btc_dollar[btc_dollar.index > pd.Timestamp('2023-01-01').timestamp() * 1000]\n",
    "btc_dollar = btc_dollar.iloc[:-2]\n",
    "\n",
    "cum_log_prices = np.log(btc_dollar['close']).cumsum()\n",
    "fracdiff_series = frac_diff_ffd(pd.DataFrame(np.log(btc_dollar['close']).cumsum()), 2, tau=1e-5)\n",
    "t0 = get_t_events(fracdiff_series.index.values, fracdiff_series['close'].values,\n",
    "                  float(4 * np.std(fracdiff_series.values)))\n",
    "\n",
    "daily_vol = get_daily_vol(btc_dollar)\n",
    "ms_a_day = 24 * 60 * 60 * 1000\n",
    "num_days = 5\n",
    "t1 = get_vertical_next_day(btc_dollar, t0, num_days * ms_a_day)\n",
    "\n",
    "events = get_events_triple_barrier(\n",
    "    close=btc_dollar.loc[fracdiff_series.index, 'close'],\n",
    "    t0=t0,\n",
    "    tp_scale=2,\n",
    "    sl_scale=2,\n",
    "    target=daily_vol,\n",
    "    min_return=0,\n",
    "    t1=t1,\n",
    ")\n",
    "labels = get_bins(events, btc_dollar['close'], t1)\n",
    "\n",
    "X = pd.DataFrame({\n",
    "    'close': fracdiff_series['close'].loc[labels.index],\n",
    "    'close_lag_1': fracdiff_series['close'].shift(1).loc[labels.index],\n",
    "    'close_lag_2': fracdiff_series['close'].shift(2).loc[labels.index],\n",
    "},\n",
    "    index=labels.index\n",
    ")\n",
    "\n",
    "\n",
    "model = RandomForestClassifier(n_estimators=100, random_state=42)\n",
    "X_train, X_test, y_train, y_test = train_test_split(X, labels['bin'], test_size=0.3,\n",
    "                                                    shuffle=False,\n",
    "                                                    random_state=42)\n",
    "\n",
    "# to avoid leakage\n",
    "t1_train = t1[t1.index < X_test.index[0]]\n",
    "\n",
    "w_return = sample_w_by_return(\n",
    "        t1=t1_train,\n",
    "        co_events=num_co_events(X_train.index, t1_train),\n",
    "        close=btc_dollar['close']\n",
    "    )"
   ],
   "metadata": {
    "collapsed": false
   },
   "id": "f20b4a06be69bef",
   "execution_count": null
  },
  {
   "metadata": {},
   "cell_type": "markdown",
   "source": "#### 7.2 (a) Derive the performance from a 10-fold CV of an RF classifier on (X, y), without shuffling.",
   "id": "e5ae558e9cd6c8f9"
  },
  {
   "metadata": {},
   "cell_type": "code",
   "outputs": [],
   "execution_count": null,
   "source": "",
   "id": "59fed11346cc1191"
  },
  {
   "metadata": {},
   "cell_type": "markdown",
   "source": [
    "\n",
    "#### 7.2 (b) Derive the performance from a 10-fold CV of an RF on (X, y), with shuffling.\n",
    "#### 7.2 (c) Why are both results so different?\n",
    "#### 7.2 (d) How does shuffling leak information?"
   ],
   "id": "4be1965452d434b6"
  },
  {
   "cell_type": "code",
   "execution_count": null,
   "id": "initial_id",
   "metadata": {
    "collapsed": true
   },
   "outputs": [],
   "source": []
  }
 ],
 "metadata": {
  "kernelspec": {
   "display_name": "Python 3",
   "language": "python",
   "name": "python3"
  },
  "language_info": {
   "codemirror_mode": {
    "name": "ipython",
    "version": 2
   },
   "file_extension": ".py",
   "mimetype": "text/x-python",
   "name": "python",
   "nbconvert_exporter": "python",
   "pygments_lexer": "ipython2",
   "version": "2.7.6"
  }
 },
 "nbformat": 4,
 "nbformat_minor": 5
}
